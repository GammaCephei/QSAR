{
 "cells": [
  {
   "cell_type": "code",
   "execution_count": null,
   "id": "d9fcea14-da2d-4939-b8d5-87893b5e2035",
   "metadata": {},
   "outputs": [],
   "source": [
    "import pandas as pd\n",
    "from chembl_webresource_client.new_client import new_client"
   ]
  },
  {
   "cell_type": "code",
   "execution_count": null,
   "id": "18ebefbc-ea83-4864-90ac-77ad6cfad202",
   "metadata": {},
   "outputs": [],
   "source": [
    "target_ga = new_client.target"
   ]
  },
  {
   "cell_type": "code",
   "execution_count": null,
   "id": "452793a8-948e-4d6f-a90f-ea003eafec99",
   "metadata": {},
   "outputs": [],
   "source": [
    "target_ga_query = target_ga.search('TREK-1')"
   ]
  },
  {
   "cell_type": "code",
   "execution_count": null,
   "id": "5835b3c0-298b-4e30-bd4f-0170cbb3b17b",
   "metadata": {},
   "outputs": [],
   "source": []
  },
  {
   "cell_type": "code",
   "execution_count": null,
   "id": "dbbfdda3-7318-41cf-8e86-aecef7f98e3b",
   "metadata": {},
   "outputs": [],
   "source": []
  }
 ],
 "metadata": {
  "kernelspec": {
   "display_name": "Python 3 (ipykernel)",
   "language": "python",
   "name": "python3"
  },
  "language_info": {
   "codemirror_mode": {
    "name": "ipython",
    "version": 3
   },
   "file_extension": ".py",
   "mimetype": "text/x-python",
   "name": "python",
   "nbconvert_exporter": "python",
   "pygments_lexer": "ipython3",
   "version": "3.9.7"
  }
 },
 "nbformat": 4,
 "nbformat_minor": 5
}
